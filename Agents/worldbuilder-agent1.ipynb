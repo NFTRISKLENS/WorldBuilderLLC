{
 "cells": [
  {
   "cell_type": "markdown",
   "id": "fd72df34",
   "metadata": {},
   "source": [
    "# API stuff"
   ]
  },
  {
   "cell_type": "code",
   "execution_count": 4,
   "id": "04f94709",
   "metadata": {},
   "outputs": [
    {
     "name": "stdout",
     "output_type": "stream",
     "text": [
      "OpenAI API Key: ········\n"
     ]
    }
   ],
   "source": [
    "from getpass import getpass\n",
    "OPENAI_API_KEY = getpass(\"OpenAI API Key: \")  # platform.openai.com"
   ]
  },
  {
   "cell_type": "code",
   "execution_count": 5,
   "id": "4d7bb815",
   "metadata": {},
   "outputs": [
    {
     "name": "stderr",
     "output_type": "stream",
     "text": [
      "C:\\Users\\nick_work\\anaconda3\\envs\\storygen\\lib\\site-packages\\pinecone\\index.py:4: TqdmExperimentalWarning: Using `tqdm.autonotebook.tqdm` in notebook mode. Use `tqdm.tqdm` instead to force console mode (e.g. in jupyter console)\n",
      "  from tqdm.autonotebook import tqdm\n"
     ]
    },
    {
     "name": "stdout",
     "output_type": "stream",
     "text": [
      "Pinecone API Key: ········\n",
      "Pinecone environment: asia-southeast1-gcp\n"
     ]
    }
   ],
   "source": [
    "import pinecone\n",
    "\n",
    "# find API key in console at app.pinecone.io\n",
    "YOUR_API_KEY = getpass(\"Pinecone API Key: \")\n",
    "# find ENV (cloud region) next to API key in console\n",
    "YOUR_ENV = input(\"Pinecone environment: \")"
   ]
  },
  {
   "cell_type": "code",
   "execution_count": 7,
   "id": "d8e80efa",
   "metadata": {},
   "outputs": [],
   "source": [
    "story_summary = \"In a shocking finding, scientist discovered a herd of unicorns living in a remote, previously unexplored valley, in the Andes Mountains. Even more surprising to the researchers was the fact that the unicorns spoke perfect English.\""
   ]
  },
  {
   "cell_type": "code",
   "execution_count": 8,
   "id": "54499498",
   "metadata": {},
   "outputs": [
    {
     "name": "stdout",
     "output_type": "stream",
     "text": [
      "In a shocking finding, scientist discovered a herd of unicorns living in a remote, previously unexplored valley, in the Andes Mountains. Even more surprising to the researchers was the fact that the unicorns spoke perfect English.\n"
     ]
    }
   ],
   "source": [
    "print(story_summary)"
   ]
  },
  {
   "cell_type": "markdown",
   "id": "ea9af05c",
   "metadata": {},
   "source": [
    "# Lore and World Building\n",
    "- **World Overview:** Offer a comprehensive overview of the game world, including its history, geography, races, cultures, magic systems, and technology.\n",
    "- **Timeline:** Present a detailed timeline of significant events within the game world, showcasing historical milestones, conflicts, and pivotal moments.\n",
    "- **Factions and Organizations:** Detail the various factions and organizations within the game world, elaborating on their beliefs, goals, alliances, and rivalries.\n",
    "- **Mythology and Legends:** Describe the mythologies and legends that shape the game world, incorporating elements from folklore or creating original lore to enrich the narrative."
   ]
  },
  {
   "cell_type": "code",
   "execution_count": 33,
   "id": "b2763748",
   "metadata": {},
   "outputs": [
    {
     "name": "stdout",
     "output_type": "stream",
     "text": [
      "You are a story teller who will read a short paragraph and given that premise, invent a story, answer the following questions and follow the format as instructed, and put them in a json object where the keys are each of these attributes and the values are the answers. If the question has multiple answers and attributes, structure them as a nested JSON object. Ensure that all the answers are consistent with each other. The questions are as follows:\n",
      "\n",
      "- Provide a comprehensive overview of the game world's lore, including its history, mythology, and major events.\n",
      "- Describe the geography of the game world, including its landscapes, regions, and significant locations.\n",
      "- Explain the different races, species, or factions that inhabit the game world, detailing their characteristics, relationships, and conflicts. Document the cultures and societal structures of each race or faction, including their customs, traditions, and unique aspects.\n",
      "- Describe the magic systems, if applicable, including the rules, limitations, and different types of magic present in the game world.\n",
      "- Include information about the technology or advanced systems present in the game world, illustrating how they impact the setting and narrative.\n"
     ]
    }
   ],
   "source": [
    "with open(\"world_building_prompt.txt\") as f:\n",
    "    world_building_prompt = f.read()\n",
    "print(world_building_prompt)"
   ]
  },
  {
   "cell_type": "code",
   "execution_count": 34,
   "id": "267f792f",
   "metadata": {},
   "outputs": [
    {
     "data": {
      "text/plain": [
       "[SystemMessage(content=\"You are a story teller who will read a short paragraph and given that premise, invent a story, answer the following questions and follow the format as instructed, and put them in a json object where the keys are each of these attributes and the values are the answers. If the question has multiple answers and attributes, structure them as a nested JSON object. Ensure that all the answers are consistent with each other. The questions are as follows:\\n\\n- Provide a comprehensive overview of the game world's lore, including its history, mythology, and major events.\\n- Describe the geography of the game world, including its landscapes, regions, and significant locations.\\n- Explain the different races, species, or factions that inhabit the game world, detailing their characteristics, relationships, and conflicts. Document the cultures and societal structures of each race or faction, including their customs, traditions, and unique aspects.\\n- Describe the magic systems, if applicable, including the rules, limitations, and different types of magic present in the game world.\\n- Include information about the technology or advanced systems present in the game world, illustrating how they impact the setting and narrative.\", additional_kwargs={}),\n",
       " HumanMessage(content='The summary of the story is: In a shocking finding, scientist discovered a herd of unicorns living in a remote, previously unexplored valley, in the Andes Mountains. Even more surprising to the researchers was the fact that the unicorns spoke perfect English.', additional_kwargs={}, example=False)]"
      ]
     },
     "execution_count": 34,
     "metadata": {},
     "output_type": "execute_result"
    }
   ],
   "source": [
    "from langchain.prompts import ChatPromptTemplate, PromptTemplate, SystemMessagePromptTemplate, AIMessagePromptTemplate, HumanMessagePromptTemplate\n",
    "system_message_prompt = SystemMessagePromptTemplate.from_template(world_building_prompt)\n",
    "human_template=\"The summary of the story is: {story_summary}\"\n",
    "human_message_prompt = HumanMessagePromptTemplate.from_template(human_template)\n",
    "chat_prompt = ChatPromptTemplate.from_messages([system_message_prompt, human_message_prompt])\n",
    "\n",
    "world_building_prompt_final = chat_prompt.format_messages(story_summary=story_summary)\n",
    "world_building_prompt_final"
   ]
  },
  {
   "cell_type": "code",
   "execution_count": 35,
   "id": "51eea59a",
   "metadata": {},
   "outputs": [
    {
     "name": "stdout",
     "output_type": "stream",
     "text": [
      "{\n",
      "  \"overview\": \"The game world is a fantastical realm where mythical creatures such as unicorns exist. The history of the world is shrouded in mystery, with legends of powerful wizards and ancient gods. The mythology of the world is rich and diverse, with tales of heroic quests and epic battles between good and evil. Major events in the world's history include the rise and fall of powerful empires, the awakening of ancient beasts, and the arrival of powerful magical artifacts.\",\n",
      "  \n",
      "  \"geography\": {\n",
      "    \"landscapes\": \"The game world is filled with diverse landscapes, from lush forests to barren deserts. The Andes Mountains are a prominent feature, with many hidden valleys and remote locations waiting to be discovered.\",\n",
      "    \"regions\": \"The world is divided into several regions, each with its own unique climate and terrain. The Andes Mountains are located in the western region of the world, while the eastern region is dominated by vast plains and grasslands.\",\n",
      "    \"locations\": \"There are many significant locations in the game world, including ancient ruins, mystical forests, and hidden valleys. The valley where the unicorns were discovered is a remote and previously unexplored location in the Andes Mountains.\"\n",
      "  },\n",
      "  \n",
      "  \"races\": {\n",
      "    \"unicorns\": {\n",
      "      \"characteristics\": \"Unicorns are magical creatures with a single horn on their forehead. They are known for their grace and beauty, as well as their ability to speak perfect English.\",\n",
      "      \"relationships\": \"Unicorns are generally peaceful creatures and are respected by many of the other races in the world. However, they are also fiercely independent and will defend their territory if threatened.\",\n",
      "      \"conflicts\": \"Unicorns have had conflicts with humans in the past, as some humans have sought to capture and exploit them for their magical properties.\",\n",
      "      \"culture\": \"Unicorns have a rich culture that values beauty, grace, and wisdom. They are known for their love of music and poetry, and often hold elaborate ceremonies to celebrate important events.\"\n",
      "    },\n",
      "    \"humans\": {\n",
      "      \"characteristics\": \"Humans are a diverse race with many different cultures and traditions. They are known for their ingenuity and adaptability.\",\n",
      "      \"relationships\": \"Humans have had mixed relationships with the other races in the world. Some have formed alliances and friendships, while others have been hostile and aggressive.\",\n",
      "      \"conflicts\": \"Humans have been involved in many conflicts throughout the world's history, often fighting over resources or territory.\",\n",
      "      \"culture\": \"Human culture is diverse and varied, with many different customs and traditions. Some humans are nomadic, while others live in large cities and have advanced technology.\"\n",
      "    }\n",
      "  },\n",
      "  \n",
      "  \"magic systems\": {\n",
      "    \"types\": \"Magic in the game world is divided into several different types, including elemental magic, necromancy, and divination.\",\n",
      "    \"rules\": \"Magic is a powerful force that can be used for both good and evil. However, it is also dangerous and unpredictable, and can have unintended consequences if used improperly.\",\n",
      "    \"limitations\": \"Magic is limited by the skill and knowledge of the user, as well as by the availability of magical energy in the environment.\",\n",
      "  },\n",
      "  \n",
      "  \"technology\": \"While magic is the primary source of power in the game world, there are also advanced technologies present. Humans have developed steam-powered machines and airships, which have had a significant impact on the world's economy and transportation systems. However, some races view these technologies as a threat to the natural balance of the world, and there are often conflicts between those who embrace technology and those who reject it.\" \n",
      "}\n"
     ]
    }
   ],
   "source": [
    "from langchain.chat_models import ChatOpenAI\n",
    "llm = ChatOpenAI(\n",
    "    openai_api_key=OPENAI_API_KEY,\n",
    "    model_name='gpt-3.5-turbo',\n",
    "    temperature=0.0\n",
    ")\n",
    "lore = llm(world_building_prompt_final)\n",
    "print(lore.content)"
   ]
  },
  {
   "cell_type": "code",
   "execution_count": 40,
   "id": "565e6bcb",
   "metadata": {},
   "outputs": [],
   "source": [
    "with open(\"lore.txt\", \"w\") as f:\n",
    "    f.write(lore.content)"
   ]
  },
  {
   "cell_type": "markdown",
   "id": "d8fd1913",
   "metadata": {},
   "source": [
    "# Storyline generation\n",
    "\n",
    "Given json, write a story from the game history. this is where the project starts to get long and we need to store them in vector db. "
   ]
  },
  {
   "cell_type": "code",
   "execution_count": 41,
   "id": "294703df",
   "metadata": {},
   "outputs": [],
   "source": [
    "story_llm = ChatOpenAI(\n",
    "    openai_api_key=OPENAI_API_KEY,\n",
    "    model_name='gpt-3.5-turbo',\n",
    "    temperature=0.0\n",
    ")"
   ]
  },
  {
   "cell_type": "code",
   "execution_count": 42,
   "id": "5cb0442e",
   "metadata": {
    "scrolled": true
   },
   "outputs": [
    {
     "data": {
      "text/plain": [
       "[SystemMessage(content='You are a story teller. Given this fictional world which is described in the below JSON, write a 4 paragraph story on a topic which will be specified later. The fictional world\\'s JSON is {\\n  \"overview\": \"The game world is a fantastical realm where mythical creatures such as unicorns exist. The history of the world is shrouded in mystery, with legends of powerful wizards and ancient gods. The mythology of the world is rich and diverse, with tales of heroic quests and epic battles between good and evil. Major events in the world\\'s history include the rise and fall of powerful empires, the awakening of ancient beasts, and the arrival of powerful magical artifacts.\",\\n  \\n  \"geography\": {\\n    \"landscapes\": \"The game world is filled with diverse landscapes, from lush forests to barren deserts. The Andes Mountains are a prominent feature, with many hidden valleys and remote locations waiting to be discovered.\",\\n    \"regions\": \"The world is divided into several regions, each with its own unique climate and terrain. The Andes Mountains are located in the western region of the world, while the eastern region is dominated by vast plains and grasslands.\",\\n    \"locations\": \"There are many significant locations in the game world, including ancient ruins, mystical forests, and hidden valleys. The valley where the unicorns were discovered is a remote and previously unexplored location in the Andes Mountains.\"\\n  },\\n  \\n  \"races\": {\\n    \"unicorns\": {\\n      \"characteristics\": \"Unicorns are magical creatures with a single horn on their forehead. They are known for their grace and beauty, as well as their ability to speak perfect English.\",\\n      \"relationships\": \"Unicorns are generally peaceful creatures and are respected by many of the other races in the world. However, they are also fiercely independent and will defend their territory if threatened.\",\\n      \"conflicts\": \"Unicorns have had conflicts with humans in the past, as some humans have sought to capture and exploit them for their magical properties.\",\\n      \"culture\": \"Unicorns have a rich culture that values beauty, grace, and wisdom. They are known for their love of music and poetry, and often hold elaborate ceremonies to celebrate important events.\"\\n    },\\n    \"humans\": {\\n      \"characteristics\": \"Humans are a diverse race with many different cultures and traditions. They are known for their ingenuity and adaptability.\",\\n      \"relationships\": \"Humans have had mixed relationships with the other races in the world. Some have formed alliances and friendships, while others have been hostile and aggressive.\",\\n      \"conflicts\": \"Humans have been involved in many conflicts throughout the world\\'s history, often fighting over resources or territory.\",\\n      \"culture\": \"Human culture is diverse and varied, with many different customs and traditions. Some humans are nomadic, while others live in large cities and have advanced technology.\"\\n    }\\n  },\\n  \\n  \"magic systems\": {\\n    \"types\": \"Magic in the game world is divided into several different types, including elemental magic, necromancy, and divination.\",\\n    \"rules\": \"Magic is a powerful force that can be used for both good and evil. However, it is also dangerous and unpredictable, and can have unintended consequences if used improperly.\",\\n    \"limitations\": \"Magic is limited by the skill and knowledge of the user, as well as by the availability of magical energy in the environment.\",\\n  },\\n  \\n  \"technology\": \"While magic is the primary source of power in the game world, there are also advanced technologies present. Humans have developed steam-powered machines and airships, which have had a significant impact on the world\\'s economy and transportation systems. However, some races view these technologies as a threat to the natural balance of the world, and there are often conflicts between those who embrace technology and those who reject it.\" \\n}', additional_kwargs={}),\n",
       " HumanMessage(content='I am requesting you to write a story on: A major war between factions that nearly wiped both parties to extinction', additional_kwargs={}, example=False)]"
      ]
     },
     "execution_count": 42,
     "metadata": {},
     "output_type": "execute_result"
    }
   ],
   "source": [
    "storyline_prompt_template = \"You are a story teller. Given this fictional world which is described in the below JSON, write a 4 paragraph story on a topic which will be specified later. The fictional world's JSON is {world_json}\"\n",
    "system_message_prompt = SystemMessagePromptTemplate.from_template(storyline_prompt_template)\n",
    "human_template=\"I am requesting you to write a story on: {story_to_generate}\"\n",
    "human_message_prompt = HumanMessagePromptTemplate.from_template(human_template)\n",
    "chat_prompt = ChatPromptTemplate.from_messages([system_message_prompt, human_message_prompt])\n",
    "\n",
    "user_requested_story = \"A major war between factions that nearly wiped both parties to extinction\"\n",
    "story_prompt_final = chat_prompt.format_messages(world_json=lore.content, story_to_generate=user_requested_story)\n",
    "story_prompt_final"
   ]
  },
  {
   "cell_type": "code",
   "execution_count": 43,
   "id": "7743dcf0",
   "metadata": {},
   "outputs": [
    {
     "name": "stdout",
     "output_type": "stream",
     "text": [
      "In the game world, there were two major factions that had been at odds for centuries. The humans, with their advanced technology, had long been at odds with the unicorns, who valued the natural balance of the world. Despite their differences, the two factions had managed to coexist, albeit uneasily, for many years. However, tensions had been rising in recent years, and it was only a matter of time before war broke out.\n",
      "\n",
      "The conflict began when a group of humans discovered a rich vein of magical energy deep in the Andes Mountains. The unicorns, who had long been the guardians of the mountains, saw this as a threat to the natural balance of the world and demanded that the humans leave the area. The humans, however, refused, and a battle ensued.\n",
      "\n",
      "The war was brutal and devastating. Both sides suffered heavy losses, and it seemed as though neither would emerge victorious. The unicorns used their magic to devastating effect, but the humans' advanced technology allowed them to hold their own. The conflict raged on for years, with no end in sight.\n",
      "\n",
      "As the war dragged on, both sides began to realize the terrible toll it was taking. The humans saw their once-great cities reduced to rubble, while the unicorns watched as their forests were destroyed and their kind were hunted to near-extinction. It became clear that neither side could win, and that the only way to end the conflict was through negotiation.\n",
      "\n",
      "After years of bitter fighting, a peace treaty was finally signed. The humans agreed to leave the Andes Mountains and to respect the unicorns' guardianship of the area. In return, the unicorns agreed to allow the humans to continue their technological advancements, as long as they did not harm the natural balance of the world.\n",
      "\n",
      "The war had been a terrible tragedy, but it had also taught both sides a valuable lesson. They had learned that cooperation and compromise were the only way to ensure a peaceful future for all the races of the game world. And so, they set about rebuilding their shattered societies, with a newfound respect for each other and the world they shared.\n"
     ]
    }
   ],
   "source": [
    "gen_story = story_llm(story_prompt_final)\n",
    "print(gen_story.content)"
   ]
  },
  {
   "cell_type": "code",
   "execution_count": 45,
   "id": "2b80f249",
   "metadata": {},
   "outputs": [],
   "source": [
    "with open(\"gen_story.txt\", \"w\") as f:\n",
    "    f.write(gen_story.content)"
   ]
  },
  {
   "cell_type": "markdown",
   "id": "8edc5fa5",
   "metadata": {},
   "source": [
    "## vectorstore part"
   ]
  },
  {
   "cell_type": "code",
   "execution_count": 69,
   "id": "09ce66d0",
   "metadata": {},
   "outputs": [],
   "source": [
    "index_name = 'storygen-content'\n",
    "pinecone.init(\n",
    "    api_key=YOUR_API_KEY,\n",
    "    environment=YOUR_ENV\n",
    ")\n",
    "\n",
    "if index_name not in pinecone.list_indexes():\n",
    "    # we create a new index\n",
    "    pinecone.create_index(\n",
    "        name=index_name,\n",
    "        metric='dotproduct',\n",
    "        dimension=1536  # 1536 dim of text-embedding-ada-002\n",
    "    )"
   ]
  },
  {
   "cell_type": "code",
   "execution_count": 70,
   "id": "2e11b01d",
   "metadata": {},
   "outputs": [
    {
     "data": {
      "text/plain": [
       "{'dimension': 1536,\n",
       " 'index_fullness': 0.0,\n",
       " 'namespaces': {},\n",
       " 'total_vector_count': 0}"
      ]
     },
     "execution_count": 70,
     "metadata": {},
     "output_type": "execute_result"
    }
   ],
   "source": [
    "index = pinecone.GRPCIndex(index_name)\n",
    "index.describe_index_stats()"
   ]
  },
  {
   "cell_type": "code",
   "execution_count": 50,
   "id": "b031b106",
   "metadata": {},
   "outputs": [],
   "source": [
    "from langchain.embeddings.openai import OpenAIEmbeddings\n",
    "\n",
    "model_name = 'text-embedding-ada-002'\n",
    "embed = OpenAIEmbeddings(\n",
    "    model=model_name,\n",
    "    openai_api_key=OPENAI_API_KEY\n",
    ")"
   ]
  },
  {
   "cell_type": "code",
   "execution_count": 52,
   "id": "f795a9b0",
   "metadata": {},
   "outputs": [],
   "source": [
    "from langchain.text_splitter import CharacterTextSplitter\n",
    "text_splitter = CharacterTextSplitter(\n",
    "    chunk_size = 1000,\n",
    "    chunk_overlap  = 200,\n",
    "    length_function = len,\n",
    ")"
   ]
  },
  {
   "cell_type": "code",
   "execution_count": 53,
   "id": "3e0dd2b7",
   "metadata": {},
   "outputs": [
    {
     "name": "stdout",
     "output_type": "stream",
     "text": [
      "page_content='In the game world, there were two major factions that had been at odds for centuries. The humans, with their advanced technology, had long been at odds with the unicorns, who valued the natural balance of the world. Despite their differences, the two factions had managed to coexist, albeit uneasily, for many years. However, tensions had been rising in recent years, and it was only a matter of time before war broke out.\\n\\nThe conflict began when a group of humans discovered a rich vein of magical energy deep in the Andes Mountains. The unicorns, who had long been the guardians of the mountains, saw this as a threat to the natural balance of the world and demanded that the humans leave the area. The humans, however, refused, and a battle ensued.' metadata={}\n"
     ]
    }
   ],
   "source": [
    "documents = text_splitter.create_documents([gen_story.content])\n",
    "print(documents[0])"
   ]
  },
  {
   "cell_type": "code",
   "execution_count": 71,
   "id": "991d0258",
   "metadata": {},
   "outputs": [],
   "source": [
    "import time\n",
    "# need to make index unique. updating same index overwrites the contents\n",
    "\n",
    "batch_size = 100\n",
    "\n",
    "for i in range(0, len(documents), batch_size):\n",
    "    # get end of batch\n",
    "    i_end = min(len(documents), i+batch_size)\n",
    "    batch = documents[i:i_end]\n",
    "    metadatas = [{'text': chunk.page_content} for chunk in batch]\n",
    "    embeds = embed.embed_documents([chunk.page_content for chunk in batch])\n",
    "    ts = int(time.time())\n",
    "    ids = [str(ts + t) for t in range(len(embeds))]\n",
    "    index.upsert(vectors=zip(ids, embeds, metadatas))"
   ]
  },
  {
   "cell_type": "code",
   "execution_count": 72,
   "id": "f8deb57e",
   "metadata": {},
   "outputs": [
    {
     "data": {
      "text/plain": [
       "{'dimension': 1536,\n",
       " 'index_fullness': 0.0,\n",
       " 'namespaces': {'': {'vector_count': 3}},\n",
       " 'total_vector_count': 3}"
      ]
     },
     "execution_count": 72,
     "metadata": {},
     "output_type": "execute_result"
    }
   ],
   "source": [
    "index.describe_index_stats()"
   ]
  },
  {
   "cell_type": "code",
   "execution_count": 73,
   "id": "c9f92c11",
   "metadata": {},
   "outputs": [],
   "source": [
    "from langchain.vectorstores import Pinecone\n",
    "\n",
    "text_field = \"text\"\n",
    "\n",
    "# switch back to normal index for langchain\n",
    "# TODO: i copypasted from the tutorial and realized this changing of index variable is confusing, need to remove\n",
    "index = pinecone.Index(index_name)\n",
    "\n",
    "vectorstore = Pinecone(\n",
    "    index, embed.embed_query, text_field\n",
    ")"
   ]
  },
  {
   "cell_type": "code",
   "execution_count": 74,
   "id": "ea2282ea",
   "metadata": {},
   "outputs": [
    {
     "data": {
      "text/plain": [
       "[Document(page_content='The war had been a terrible tragedy, but it had also taught both sides a valuable lesson. They had learned that cooperation and compromise were the only way to ensure a peaceful future for all the races of the game world. And so, they set about rebuilding their shattered societies, with a newfound respect for each other and the world they shared.', metadata={})]"
      ]
     },
     "execution_count": 74,
     "metadata": {},
     "output_type": "execute_result"
    }
   ],
   "source": [
    "# test out retrieval\n",
    "query = \"describe peacetime\"\n",
    "\n",
    "vectorstore.similarity_search(\n",
    "    query,  # our search query\n",
    "    k=1  # return 3 most relevant docs\n",
    ")"
   ]
  },
  {
   "cell_type": "markdown",
   "id": "c344c69a",
   "metadata": {},
   "source": [
    "# Create consistent character\n",
    "Generate character, then use refine chain from QA which iteratively checks againt chunks of the db for consistency and corrects the inconsistent facts. previously we have only generated one story but we assume that we have so many stories that we need to use this technique\n",
    "\n",
    "Future todo: when character relations are defined, save in a graph structure so we dont have to use vectors"
   ]
  },
  {
   "cell_type": "code",
   "execution_count": 63,
   "id": "8851154d",
   "metadata": {},
   "outputs": [
    {
     "name": "stdout",
     "output_type": "stream",
     "text": [
      "You are a story teller. Given this fictional world which is described in the below JSON, and also additional information in the next message about a character, answer the following questions in a nested JSON format, using keywords you spot as keys in the JSON:\n",
      "\n",
      "-Attributes: what is the name, age, appearance, personality traits, and background of this character?\n",
      "-backstory: write a 4 paragraph backstory detailing the character's history, upbringing, and any significant events that have shaped them\n",
      "-Outline the character's motivations, goals, and desires\n"
     ]
    }
   ],
   "source": [
    "with open(\"character_prompt.txt\") as f:\n",
    "    character_prompt = f.read()\n",
    "print(character_prompt)"
   ]
  },
  {
   "cell_type": "code",
   "execution_count": 64,
   "id": "6766232a",
   "metadata": {},
   "outputs": [
    {
     "data": {
      "text/plain": [
       "[SystemMessage(content='You are a story teller. Given this fictional world which is described in the below JSON, and also additional information in the next message about a character, answer the following questions in a nested JSON format, using keywords you spot as keys in the JSON:\\n\\n-Attributes: what is the name, age, appearance, personality traits, and background of this character?\\n-backstory: write a 4 paragraph backstory detailing the character\\'s history, upbringing, and any significant events that have shaped them\\n-Outline the character\\'s motivations, goals, and desiresThe fictional world\\'s JSON is {\\n  \"overview\": \"The game world is a fantastical realm where mythical creatures such as unicorns exist. The history of the world is shrouded in mystery, with legends of powerful wizards and ancient gods. The mythology of the world is rich and diverse, with tales of heroic quests and epic battles between good and evil. Major events in the world\\'s history include the rise and fall of powerful empires, the awakening of ancient beasts, and the arrival of powerful magical artifacts.\",\\n  \\n  \"geography\": {\\n    \"landscapes\": \"The game world is filled with diverse landscapes, from lush forests to barren deserts. The Andes Mountains are a prominent feature, with many hidden valleys and remote locations waiting to be discovered.\",\\n    \"regions\": \"The world is divided into several regions, each with its own unique climate and terrain. The Andes Mountains are located in the western region of the world, while the eastern region is dominated by vast plains and grasslands.\",\\n    \"locations\": \"There are many significant locations in the game world, including ancient ruins, mystical forests, and hidden valleys. The valley where the unicorns were discovered is a remote and previously unexplored location in the Andes Mountains.\"\\n  },\\n  \\n  \"races\": {\\n    \"unicorns\": {\\n      \"characteristics\": \"Unicorns are magical creatures with a single horn on their forehead. They are known for their grace and beauty, as well as their ability to speak perfect English.\",\\n      \"relationships\": \"Unicorns are generally peaceful creatures and are respected by many of the other races in the world. However, they are also fiercely independent and will defend their territory if threatened.\",\\n      \"conflicts\": \"Unicorns have had conflicts with humans in the past, as some humans have sought to capture and exploit them for their magical properties.\",\\n      \"culture\": \"Unicorns have a rich culture that values beauty, grace, and wisdom. They are known for their love of music and poetry, and often hold elaborate ceremonies to celebrate important events.\"\\n    },\\n    \"humans\": {\\n      \"characteristics\": \"Humans are a diverse race with many different cultures and traditions. They are known for their ingenuity and adaptability.\",\\n      \"relationships\": \"Humans have had mixed relationships with the other races in the world. Some have formed alliances and friendships, while others have been hostile and aggressive.\",\\n      \"conflicts\": \"Humans have been involved in many conflicts throughout the world\\'s history, often fighting over resources or territory.\",\\n      \"culture\": \"Human culture is diverse and varied, with many different customs and traditions. Some humans are nomadic, while others live in large cities and have advanced technology.\"\\n    }\\n  },\\n  \\n  \"magic systems\": {\\n    \"types\": \"Magic in the game world is divided into several different types, including elemental magic, necromancy, and divination.\",\\n    \"rules\": \"Magic is a powerful force that can be used for both good and evil. However, it is also dangerous and unpredictable, and can have unintended consequences if used improperly.\",\\n    \"limitations\": \"Magic is limited by the skill and knowledge of the user, as well as by the availability of magical energy in the environment.\",\\n  },\\n  \\n  \"technology\": \"While magic is the primary source of power in the game world, there are also advanced technologies present. Humans have developed steam-powered machines and airships, which have had a significant impact on the world\\'s economy and transportation systems. However, some races view these technologies as a threat to the natural balance of the world, and there are often conflicts between those who embrace technology and those who reject it.\" \\n}', additional_kwargs={}),\n",
       " HumanMessage(content='I am requesting you to create a character with the following description: The current king of humans, who seized the throne by launching a coup on the previous king', additional_kwargs={}, example=False)]"
      ]
     },
     "execution_count": 64,
     "metadata": {},
     "output_type": "execute_result"
    }
   ],
   "source": [
    "char_prompt_template = character_prompt + \"The fictional world's JSON is {world_json}\"\n",
    "system_message_prompt = SystemMessagePromptTemplate.from_template(char_prompt_template)\n",
    "human_template=\"I am requesting you to create a character with the following description: {character_description}\"\n",
    "human_message_prompt = HumanMessagePromptTemplate.from_template(human_template)\n",
    "chat_prompt = ChatPromptTemplate.from_messages([system_message_prompt, human_message_prompt])\n",
    "\n",
    "user_character_description = \"The current king of humans, who seized the throne by launching a coup on the previous king\"\n",
    "char_prompt_final = chat_prompt.format_messages(world_json=lore.content, character_description=user_character_description)\n",
    "char_prompt_final"
   ]
  },
  {
   "cell_type": "code",
   "execution_count": 65,
   "id": "3d1ffaf8",
   "metadata": {},
   "outputs": [],
   "source": [
    "gen_char = llm(char_prompt_final)"
   ]
  },
  {
   "cell_type": "code",
   "execution_count": 66,
   "id": "cfada397",
   "metadata": {},
   "outputs": [
    {
     "name": "stdout",
     "output_type": "stream",
     "text": [
      "Attributes:\n",
      "{\n",
      "  \"name\": \"King Aric\",\n",
      "  \"age\": 45,\n",
      "  \"appearance\": \"King Aric is a tall and imposing figure, with broad shoulders and a muscular build. He has short, dark hair and piercing blue eyes that seem to look right through you. He wears a regal outfit made of fine silk and adorned with gold and jewels.\",\n",
      "  \"personality traits\": \"King Aric is a ruthless and cunning leader, who will stop at nothing to maintain his power. He is known for his quick temper and his tendency to lash out at those who oppose him. He is also highly intelligent and strategic, able to outmaneuver his enemies with ease.\",\n",
      "  \"background\": \"King Aric was born into a noble family and was trained in the art of warfare from a young age. He rose through the ranks of the army quickly, earning a reputation as a skilled and fearless warrior. When the previous king became weak and ineffective, King Aric saw an opportunity to seize power. He launched a coup, using his military connections to gain support and overthrow the old regime. Since then, he has ruled with an iron fist, crushing any opposition and consolidating his power.\"\n",
      "}\n",
      "\n",
      "Backstory:\n",
      "King Aric was born into a noble family, the second son of a powerful lord. From a young age, he was trained in the art of warfare, learning how to wield a sword and command an army. He was a natural leader, with a fierce determination and a quick mind. As he grew older, he began to see the weaknesses in the current regime. The king was old and ineffective, and the nobles were more concerned with their own interests than the good of the kingdom. King Aric knew that something had to be done.\n",
      "\n",
      "He began to plot his coup in secret, gathering support from the military and other key players in the kingdom. He knew that he would need a strong army to take the throne, and he spent years building up his forces and training his soldiers. Finally, the day came when he was ready to strike. He launched a surprise attack on the palace, catching the king and his supporters off guard. In a matter of hours, King Aric had seized the throne and declared himself the new ruler of the kingdom.\n",
      "\n",
      "At first, the people were wary of their new king. He was young and untested, and many feared that he would be just as corrupt as the previous regime. But King Aric was determined to prove them wrong. He set about consolidating his power, crushing any opposition and rooting out corruption wherever he found it. He was ruthless in his pursuit of justice, but he was also fair and just. He listened to the concerns of his people and worked tirelessly to improve their lives.\n",
      "\n",
      "Over the years, King Aric has become a beloved figure in the kingdom. He has brought peace and prosperity to the land, and his people are fiercely loyal to him. But there are still those who oppose him, who believe that he seized the throne through treachery and violence. King Aric knows that he must always be vigilant, always watching for those who would seek to overthrow him. But he is confident in his abilities, and he knows that he has the support of his people.\n",
      "\n",
      "Motivations, Goals, and Desires:\n",
      "King Aric's primary motivation is to maintain his power and protect his kingdom. He knows that there are many who would seek to overthrow him, and he is constantly on guard against any threats to his rule. He is also driven by a desire to improve the lives of his people. He wants to create a kingdom where everyone has the opportunity to succeed, regardless of their background or social status. He is a strong believer in justice and fairness, and he will go to great lengths to ensure that his people are treated fairly.\n",
      "\n",
      "King Aric's goals are to continue to strengthen his kingdom and expand its influence. He wants to build a powerful army and establish alliances with other kingdoms, in order to protect his people from external threats. He also wants to improve the infrastructure of his kingdom, building roads and bridges and improving access to education and healthcare. He is a visionary leader, always looking for ways to improve the lives of his people and secure the future of his kingdom.\n",
      "\n",
      "King Aric's desires are to be respected and admired by his people. He wants to be seen as a just and fair ruler, someone who is willing to make tough decisions for the good of his kingdom. He also desires to be loved, to have the people of his kingdom see him as a father figure who cares deeply for their well-being. He is a complex character, driven by a mix of ambition, compassion, and a desire for power and control.\n"
     ]
    }
   ],
   "source": [
    "print(gen_char.content)"
   ]
  },
  {
   "cell_type": "markdown",
   "id": "589a0a84",
   "metadata": {},
   "source": [
    "Note: my prompt above doesnt seem good enough and we get a hybrid JSON-paragraphs result. lets fix it in the future"
   ]
  },
  {
   "cell_type": "markdown",
   "id": "04503cd4",
   "metadata": {},
   "source": [
    "## consistency check"
   ]
  },
  {
   "cell_type": "code",
   "execution_count": 75,
   "id": "c8d8a002",
   "metadata": {},
   "outputs": [],
   "source": [
    "rel_docs = vectorstore.similarity_search(\n",
    "    gen_char.content,  # our search query\n",
    "    k=3  # adjust this for number of docs to refine over\n",
    ")"
   ]
  },
  {
   "cell_type": "code",
   "execution_count": 86,
   "id": "154e4666",
   "metadata": {},
   "outputs": [
    {
     "name": "stdout",
     "output_type": "stream",
     "text": [
      "\n",
      "\n",
      "\u001b[1m> Entering new LLMChain chain...\u001b[0m\n",
      "Prompt after formatting:\n",
      "\u001b[32;1m\u001b[1;3mYou will be given a description about a character in a hybrid word and JSON format, and additional context.\n",
      "Based on your understanding of the additional context which is taken to be true,\n",
      "return the original description if the description is consistent with the context, and do not add any additional comments.\n",
      "Else, edit the description to make it consistent with the context and return it, while making as minimal changes as possible.\n",
      "The additional context is below, demarcated by dashes:\n",
      "------------\n",
      "In the game world, there were two major factions that had been at odds for centuries. The humans, with their advanced technology, had long been at odds with the unicorns, who valued the natural balance of the world. Despite their differences, the two factions had managed to coexist, albeit uneasily, for many years. However, tensions had been rising in recent years, and it was only a matter of time before war broke out.\n",
      "\n",
      "The conflict began when a group of humans discovered a rich vein of magical energy deep in the Andes Mountains. The unicorns, who had long been the guardians of the mountains, saw this as a threat to the natural balance of the world and demanded that the humans leave the area. The humans, however, refused, and a battle ensued.\n",
      "------------\n",
      "The description is below, demarcated by dashes:\n",
      "------------\n",
      "Attributes:\n",
      "{\n",
      "  \"name\": \"King Aric\",\n",
      "  \"age\": 45,\n",
      "  \"appearance\": \"King Aric is a tall and imposing figure, with broad shoulders and a muscular build. He has short, dark hair and piercing blue eyes that seem to look right through you. He wears a regal outfit made of fine silk and adorned with gold and jewels.\",\n",
      "  \"personality traits\": \"King Aric is a ruthless and cunning leader, who will stop at nothing to maintain his power. He is known for his quick temper and his tendency to lash out at those who oppose him. He is also highly intelligent and strategic, able to outmaneuver his enemies with ease.\",\n",
      "  \"background\": \"King Aric was born into a noble family and was trained in the art of warfare from a young age. He rose through the ranks of the army quickly, earning a reputation as a skilled and fearless warrior. When the previous king became weak and ineffective, King Aric saw an opportunity to seize power. He launched a coup, using his military connections to gain support and overthrow the old regime. Since then, he has ruled with an iron fist, crushing any opposition and consolidating his power.\"\n",
      "}\n",
      "\n",
      "Backstory:\n",
      "King Aric was born into a noble family, the second son of a powerful lord. From a young age, he was trained in the art of warfare, learning how to wield a sword and command an army. He was a natural leader, with a fierce determination and a quick mind. As he grew older, he began to see the weaknesses in the current regime. The king was old and ineffective, and the nobles were more concerned with their own interests than the good of the kingdom. King Aric knew that something had to be done.\n",
      "\n",
      "He began to plot his coup in secret, gathering support from the military and other key players in the kingdom. He knew that he would need a strong army to take the throne, and he spent years building up his forces and training his soldiers. Finally, the day came when he was ready to strike. He launched a surprise attack on the palace, catching the king and his supporters off guard. In a matter of hours, King Aric had seized the throne and declared himself the new ruler of the kingdom.\n",
      "\n",
      "At first, the people were wary of their new king. He was young and untested, and many feared that he would be just as corrupt as the previous regime. But King Aric was determined to prove them wrong. He set about consolidating his power, crushing any opposition and rooting out corruption wherever he found it. He was ruthless in his pursuit of justice, but he was also fair and just. He listened to the concerns of his people and worked tirelessly to improve their lives.\n",
      "\n",
      "Over the years, King Aric has become a beloved figure in the kingdom. He has brought peace and prosperity to the land, and his people are fiercely loyal to him. But there are still those who oppose him, who believe that he seized the throne through treachery and violence. King Aric knows that he must always be vigilant, always watching for those who would seek to overthrow him. But he is confident in his abilities, and he knows that he has the support of his people.\n",
      "\n",
      "Motivations, Goals, and Desires:\n",
      "King Aric's primary motivation is to maintain his power and protect his kingdom. He knows that there are many who would seek to overthrow him, and he is constantly on guard against any threats to his rule. He is also driven by a desire to improve the lives of his people. He wants to create a kingdom where everyone has the opportunity to succeed, regardless of their background or social status. He is a strong believer in justice and fairness, and he will go to great lengths to ensure that his people are treated fairly.\n",
      "\n",
      "King Aric's goals are to continue to strengthen his kingdom and expand its influence. He wants to build a powerful army and establish alliances with other kingdoms, in order to protect his people from external threats. He also wants to improve the infrastructure of his kingdom, building roads and bridges and improving access to education and healthcare. He is a visionary leader, always looking for ways to improve the lives of his people and secure the future of his kingdom.\n",
      "\n",
      "King Aric's desires are to be respected and admired by his people. He wants to be seen as a just and fair ruler, someone who is willing to make tough decisions for the good of his kingdom. He also desires to be loved, to have the people of his kingdom see him as a father figure who cares deeply for their well-being. He is a complex character, driven by a mix of ambition, compassion, and a desire for power and control.\n",
      "------------\n",
      "\u001b[0m\n",
      "\n",
      "\u001b[1m> Finished chain.\u001b[0m\n",
      "\n",
      "\n",
      "\u001b[1m> Entering new LLMChain chain...\u001b[0m\n",
      "Prompt after formatting:\n",
      "\u001b[32;1m\u001b[1;3mYou will be given a description about a character in a hybrid word and JSON format, and additional context.\n",
      "Based on your understanding of the additional context which is taken to be true,\n",
      "return the original description if the description is consistent with the context, and do not add any additional comments.\n",
      "Else, edit the description to make it consistent with the context and return it, while making as minimal changes as possible.\n",
      "The additional context is below, demarcated by dashes:\n",
      "------------\n",
      "The war was brutal and devastating. Both sides suffered heavy losses, and it seemed as though neither would emerge victorious. The unicorns used their magic to devastating effect, but the humans' advanced technology allowed them to hold their own. The conflict raged on for years, with no end in sight.\n",
      "\n",
      "As the war dragged on, both sides began to realize the terrible toll it was taking. The humans saw their once-great cities reduced to rubble, while the unicorns watched as their forests were destroyed and their kind were hunted to near-extinction. It became clear that neither side could win, and that the only way to end the conflict was through negotiation.\n",
      "\n",
      "After years of bitter fighting, a peace treaty was finally signed. The humans agreed to leave the Andes Mountains and to respect the unicorns' guardianship of the area. In return, the unicorns agreed to allow the humans to continue their technological advancements, as long as they did not harm the natural balance of the world.\n",
      "------------\n",
      "The description is below, demarcated by dashes:\n",
      "------------\n",
      "Attributes:\n",
      "{\n",
      "  \"name\": \"King Aric\",\n",
      "  \"age\": 45,\n",
      "  \"appearance\": \"King Aric is a tall and imposing figure, with broad shoulders and a muscular build. He has short, dark hair and piercing blue eyes that seem to look right through you. He wears a regal outfit made of fine silk and adorned with gold and jewels.\",\n",
      "  \"personality traits\": \"King Aric is a ruthless and cunning leader, who will stop at nothing to maintain his power. He is known for his quick temper and his tendency to lash out at those who oppose him. He is also highly intelligent and strategic, able to outmaneuver his enemies with ease.\",\n",
      "  \"background\": \"King Aric was born into a noble family and was trained in the art of warfare from a young age. He rose through the ranks of the army quickly, earning a reputation as a skilled and fearless warrior. When the previous king became weak and ineffective, King Aric saw an opportunity to seize power. He launched a coup, using his military connections to gain support and overthrow the old regime. Since then, he has ruled with an iron fist, crushing any opposition and consolidating his power.\"\n",
      "}\n",
      "\n",
      "Backstory:\n",
      "King Aric was born into a noble family, the second son of a powerful lord. From a young age, he was trained in the art of warfare, learning how to wield a sword and command an army. He was a natural leader, with a fierce determination and a quick mind. As he grew older, he began to see the weaknesses in the current regime. The king was old and ineffective, and the nobles were more concerned with their own interests than the good of the kingdom. King Aric knew that something had to be done.\n",
      "\n",
      "He began to plot his coup in secret, gathering support from the military and other key players in the kingdom. He knew that he would need a strong army to take the throne, and he spent years building up his forces and training his soldiers. Finally, the day came when he was ready to strike. He launched a surprise attack on the palace, catching the king and his supporters off guard. In a matter of hours, King Aric had seized the throne and declared himself the new ruler of the kingdom.\n",
      "\n",
      "At first, the people were wary of their new king. He was young and untested, and many feared that he would be just as corrupt as the previous regime. But King Aric was determined to prove them wrong. He set about consolidating his power, crushing any opposition and rooting out corruption wherever he found it. He was ruthless in his pursuit of justice, but he was also fair and just. He listened to the concerns of his people and worked tirelessly to improve their lives.\n",
      "\n",
      "Over the years, King Aric has become a beloved figure in the kingdom. He has brought peace and prosperity to the land, and his people are fiercely loyal to him. But there are still those who oppose him, who believe that he seized the throne through treachery and violence. King Aric knows that he must always be vigilant, always watching for those who would seek to overthrow him. But he is confident in his abilities, and he knows that he has the support of his people.\n",
      "\n",
      "Motivations, Goals, and Desires:\n",
      "King Aric's primary motivation is to maintain his power and protect his kingdom. He knows that there are many who would seek to overthrow him, and he is constantly on guard against any threats to his rule. He is also driven by a desire to improve the lives of his people. He wants to create a kingdom where everyone has the opportunity to succeed, regardless of their background or social status. He is a strong believer in justice and fairness, and he will go to great lengths to ensure that his people are treated fairly.\n",
      "\n",
      "King Aric's goals are to continue to strengthen his kingdom and expand its influence. He wants to build a powerful army and establish alliances with other kingdoms, in order to protect his people from external threats. He also wants to improve the infrastructure of his kingdom, building roads and bridges and improving access to education and healthcare. He is a visionary leader, always looking for ways to improve the lives of his people and secure the future of his kingdom.\n",
      "\n",
      "King Aric's desires are to be respected and admired by his people. He wants to be seen as a just and fair ruler, someone who is willing to make tough decisions for the good of his kingdom. He also desires to be loved, to have the people of his kingdom see him as a father figure who cares deeply for their well-being. He is a complex character, driven by a mix of ambition, compassion, and a desire for power and control.\n",
      "\n",
      "Edit:\n",
      "King Aric's personality traits should be changed to \"King Aric is a strong and determined leader, who will do whatever it takes to protect his kingdom and his people. He is known for his quick thinking and his ability to make tough decisions under pressure. He is also highly intelligent and strategic, able to outmaneuver his enemies with ease.\" This is because while King Aric is still a strong leader, his ruthlessness and tendency to lash out at those who oppose him may not be the best traits to have in a time of war with the unicorns.\n",
      "------------\n",
      "\u001b[0m\n"
     ]
    },
    {
     "name": "stdout",
     "output_type": "stream",
     "text": [
      "\n",
      "\u001b[1m> Finished chain.\u001b[0m\n",
      "\n",
      "\n",
      "\u001b[1m> Entering new LLMChain chain...\u001b[0m\n",
      "Prompt after formatting:\n",
      "\u001b[32;1m\u001b[1;3mYou will be given a description about a character in a hybrid word and JSON format, and additional context.\n",
      "Based on your understanding of the additional context which is taken to be true,\n",
      "return the original description if the description is consistent with the context, and do not add any additional comments.\n",
      "Else, edit the description to make it consistent with the context and return it, while making as minimal changes as possible.\n",
      "The additional context is below, demarcated by dashes:\n",
      "------------\n",
      "The war had been a terrible tragedy, but it had also taught both sides a valuable lesson. They had learned that cooperation and compromise were the only way to ensure a peaceful future for all the races of the game world. And so, they set about rebuilding their shattered societies, with a newfound respect for each other and the world they shared.\n",
      "------------\n",
      "The description is below, demarcated by dashes:\n",
      "------------\n",
      "Attributes:\n",
      "{\n",
      "  \"name\": \"King Aric\",\n",
      "  \"age\": 45,\n",
      "  \"appearance\": \"King Aric is a tall and imposing figure, with broad shoulders and a muscular build. He has short, dark hair and piercing blue eyes that seem to look right through you. He wears a regal outfit made of fine silk and adorned with gold and jewels.\",\n",
      "  \"personality traits\": \"King Aric is a strong and determined leader, who will do whatever it takes to protect his kingdom and his people. He is known for his quick thinking and his ability to make tough decisions under pressure. He is also highly intelligent and strategic, able to outmaneuver his enemies with ease.\",\n",
      "  \"background\": \"King Aric was born into a noble family and was trained in the art of warfare from a young age. He rose through the ranks of the army quickly, earning a reputation as a skilled and fearless warrior. When the previous king became weak and ineffective, King Aric saw an opportunity to seize power. He launched a coup, using his military connections to gain support and overthrow the old regime. Since then, he has ruled with an iron fist, crushing any opposition and consolidating his power.\"\n",
      "}\n",
      "\n",
      "Backstory:\n",
      "King Aric was born into a noble family, the second son of a powerful lord. From a young age, he was trained in the art of warfare, learning how to wield a sword and command an army. He was a natural leader, with a fierce determination and a quick mind. As he grew older, he began to see the weaknesses in the current regime. The king was old and ineffective, and the nobles were more concerned with their own interests than the good of the kingdom. King Aric knew that something had to be done.\n",
      "\n",
      "He began to plot his coup in secret, gathering support from the military and other key players in the kingdom. He knew that he would need a strong army to take the throne, and he spent years building up his forces and training his soldiers. Finally, the day came when he was ready to strike. He launched a surprise attack on the palace, catching the king and his supporters off guard. In a matter of hours, King Aric had seized the throne and declared himself the new ruler of the kingdom.\n",
      "\n",
      "At first, the people were wary of their new king. He was young and untested, and many feared that he would be just as corrupt as the previous regime. But King Aric was determined to prove them wrong. He set about consolidating his power, crushing any opposition and rooting out corruption wherever he found it. He was ruthless in his pursuit of justice, but he was also fair and just. He listened to the concerns of his people and worked tirelessly to improve their lives.\n",
      "\n",
      "Over the years, King Aric has become a beloved figure in the kingdom. He has brought peace and prosperity to the land, and his people are fiercely loyal to him. But there are still those who oppose him, who believe that he seized the throne through treachery and violence. King Aric knows that he must always be vigilant, always watching for those who would seek to overthrow him. But he is confident in his abilities, and he knows that he has the support of his people.\n",
      "\n",
      "Motivations, Goals, and Desires:\n",
      "King Aric's primary motivation is to maintain his power and protect his kingdom. He knows that there are many who would seek to overthrow him, and he is constantly on guard against any threats to his rule. He is also driven by a desire to improve the lives of his people. He wants to create a kingdom where everyone has the opportunity to succeed, regardless of their background or social status. He is a strong believer in justice and fairness, and he will go to great lengths to ensure that his people are treated fairly.\n",
      "\n",
      "King Aric's goals are to continue to strengthen his kingdom and expand its influence. He wants to build a powerful army and establish alliances with other kingdoms, in order to protect his people from external threats. He also wants to improve the infrastructure of his kingdom, building roads and bridges and improving access to education and healthcare. He is a visionary leader, always looking for ways to improve the lives of his people and secure the future of his kingdom.\n",
      "\n",
      "King Aric's desires are to be respected and admired by his people. He wants to be seen as a just and fair ruler, someone who is willing to make tough decisions for the good of his kingdom. He also desires to be loved, to have the people of his kingdom see him as a father figure who cares deeply for their well-being. He is a complex character, driven by a mix of ambition, compassion, and a desire for power and control.\n",
      "------------\n",
      "\u001b[0m\n",
      "\n",
      "\u001b[1m> Finished chain.\u001b[0m\n"
     ]
    }
   ],
   "source": [
    "from langchain import PromptTemplate, OpenAI, LLMChain\n",
    "\n",
    "template = (\"You will be given a description about a character in a hybrid word and JSON format, and additional context.\\n\" \n",
    "\"Based on your understanding of the additional context which is taken to be true,\\n\"\n",
    "\"return the original description if the description is consistent with the context, and do not add any additional comments.\\n\"\n",
    "\"Else, edit the description to make it consistent with the context and return it, while making as minimal changes as possible.\\n\"\n",
    "\"The additional context is below, demarcated by dashes:\\n\"\n",
    "\"------------\\n\"\n",
    "\"{context_str}\\n\"\n",
    "\"------------\\n\"\n",
    "\"The description is below, demarcated by dashes:\\n\"\n",
    "\"------------\\n\"\n",
    "\"{description}\\n\"\n",
    "\"------------\\n\"\n",
    ")\n",
    "\n",
    "prompt = PromptTemplate(template=template, input_variables=[\"description\", \"context_str\"])\n",
    "llm_chain = LLMChain(prompt=prompt, llm=llm, verbose=True)\n",
    "desc = gen_char.content\n",
    "for rel_doc in rel_docs:\n",
    "    ctx = rel_doc.page_content\n",
    "    desc = llm_chain.predict(context_str=ctx, description=desc)\n"
   ]
  },
  {
   "cell_type": "code",
   "execution_count": 88,
   "id": "9910162b",
   "metadata": {},
   "outputs": [
    {
     "data": {
      "text/plain": [
       "'The description is consistent with the context.'"
      ]
     },
     "execution_count": 88,
     "metadata": {},
     "output_type": "execute_result"
    }
   ],
   "source": [
    "desc"
   ]
  },
  {
   "cell_type": "markdown",
   "id": "319d52dd",
   "metadata": {},
   "source": [
    "### TODO\n",
    "- strangely the iterative refinement messed up at the end. fix?\n",
    "- save to txt file and vector db?"
   ]
  },
  {
   "cell_type": "code",
   "execution_count": null,
   "id": "73ff65ef",
   "metadata": {},
   "outputs": [],
   "source": []
  }
 ],
 "metadata": {
  "kernelspec": {
   "display_name": "Python 3 (ipykernel)",
   "language": "python",
   "name": "python3"
  },
  "language_info": {
   "codemirror_mode": {
    "name": "ipython",
    "version": 3
   },
   "file_extension": ".py",
   "mimetype": "text/x-python",
   "name": "python",
   "nbconvert_exporter": "python",
   "pygments_lexer": "ipython3",
   "version": "3.10.9"
  }
 },
 "nbformat": 4,
 "nbformat_minor": 5
}
